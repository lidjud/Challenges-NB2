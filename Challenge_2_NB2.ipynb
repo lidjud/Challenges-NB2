{
  "nbformat": 4,
  "nbformat_minor": 0,
  "metadata": {
    "colab": {
      "name": "Challenge 2 NB2.ipynb",
      "provenance": [],
      "authorship_tag": "ABX9TyPOWISVWvs3HkUItXgpjECh",
      "include_colab_link": true
    },
    "kernelspec": {
      "name": "python3",
      "display_name": "Python 3"
    },
    "language_info": {
      "name": "python"
    }
  },
  "cells": [
    {
      "cell_type": "markdown",
      "metadata": {
        "id": "view-in-github",
        "colab_type": "text"
      },
      "source": [
        "<a href=\"https://colab.research.google.com/github/lidjud/Challenges-NB2/blob/main/Challenge_2_NB2.ipynb\" target=\"_parent\"><img src=\"https://colab.research.google.com/assets/colab-badge.svg\" alt=\"Open In Colab\"/></a>"
      ]
    },
    {
      "cell_type": "markdown",
      "source": [
        "# **Challenge 2: f-String**"
      ],
      "metadata": {
        "id": "mXu6vCQKSGMH"
      }
    },
    {
      "cell_type": "markdown",
      "source": [
        "Te recomiendo que leas el siguiente artículo escrito por Tim Urban titulado: \n",
        "\n",
        "[Your Life in Weeks](https://waitbutwhy.com/2014/05/life-weeks.html)\n",
        "\n",
        "Crea un programa usando operadores aritméticos y f-Strings que imprima en consola cuántos días, semanas y meses de vida le quedan al usuario, considerando que vive hasta los 90 años.\n",
        "\n",
        "Tu código deberá tomar en cuenta la edad actual del usuario como entrada y, el mensaje de  salida proporcionará el tiempo restante de vida en este formato:\n",
        "\n",
        "```\n",
        "Usted tiene x días, y semanas o z meses más de vida.\n",
        "```\n",
        "\n",
        "Donde ```x```, ```y``` y ```z``` se reemplazan con los números calculados reales.\n",
        "\n",
        "Advertencia: la salida debe coincidir exactamente con el formato de salida de ejemplo, incluso las posiciones de las comas y los puntos."
      ],
      "metadata": {
        "id": "C1juWVrHSW3t"
      }
    },
    {
      "cell_type": "code",
      "source": [
        "# 🚨 No modifiques la siguiente línea de código 👇\n",
        "edad = input(\"¿Cuál es tu edad actual? \")\n",
        "\n",
        "#Aquí puedes escribir tu código 👇\n",
        "\n"
      ],
      "metadata": {
        "id": "ZSPC09uOTk-6"
      },
      "execution_count": null,
      "outputs": []
    }
  ]
}