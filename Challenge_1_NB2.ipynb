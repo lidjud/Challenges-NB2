{
  "nbformat": 4,
  "nbformat_minor": 0,
  "metadata": {
    "colab": {
      "name": "Challenge 1 NB2.ipynb",
      "provenance": [],
      "authorship_tag": "ABX9TyNK/KEAjbLFdfewtcp/jg4C",
      "include_colab_link": true
    },
    "kernelspec": {
      "name": "python3",
      "display_name": "Python 3"
    },
    "language_info": {
      "name": "python"
    }
  },
  "cells": [
    {
      "cell_type": "markdown",
      "metadata": {
        "id": "view-in-github",
        "colab_type": "text"
      },
      "source": [
        "<a href=\"https://colab.research.google.com/github/lidjud/Challenges-NB2/blob/main/Challenge_1_NB2.ipynb\" target=\"_parent\"><img src=\"https://colab.research.google.com/assets/colab-badge.svg\" alt=\"Open In Colab\"/></a>"
      ]
    },
    {
      "cell_type": "markdown",
      "source": [
        "# **Challenge 1: Operadores aritméticos**"
      ],
      "metadata": {
        "id": "4V66NhZ-mBEA"
      }
    },
    {
      "cell_type": "markdown",
      "source": [
        "Escriba un programa que calcule el índice de masa corporal (IMC) a partir del peso y la altura de un usuario.\n",
        "\n",
        "El IMC es un método de evaluación fácil y económico para la categoría de peso: bajo peso, peso saludable, sobrepeso, y obesidad.\n",
        "\n",
        "El IMC se calcula dividiendo el peso de una persona (en kg) por el cuadrado de su altura (en m):\n",
        "\n",
        "\n",
        "$$IMC = \\frac{peso (kg)}{m^2}$$"
      ],
      "metadata": {
        "id": "T9MryqtjmOkB"
      }
    },
    {
      "cell_type": "markdown",
      "source": [
        "Considera los siguientes puntos:\n",
        "\n",
        "\n",
        "1. Revisa el tipo de dato de entrada.\n",
        "2. Usa el operador de pontencia en tu programa\n",
        "3. Recuerda la precedencia de los operadores.\n",
        "4. Convierte el resultado a un tipo de dato entero ```int```."
      ],
      "metadata": {
        "id": "YHY4oW-QqSJJ"
      }
    },
    {
      "cell_type": "markdown",
      "source": [
        "En el siguiente enlace puedes ver el gráfico del índice de masa corporal y obtener más infomación.\n",
        "\n",
        "[IMC](https://es.wikipedia.org/wiki/%C3%8Dndice_de_masa_corporal)"
      ],
      "metadata": {
        "id": "4eS-naeWtkhB"
      }
    },
    {
      "cell_type": "code",
      "execution_count": null,
      "metadata": {
        "id": "vAkJJek4l5ep"
      },
      "outputs": [],
      "source": [
        "# 🚨 No modifiques las siguientes líneas de código 👇\n",
        "altura = input(\"registra tu altura en m: \")\n",
        "peso = input(\"registra tu peso en kg: \")\n",
        "\n",
        "#Aquí puedes escribir tu código 👇\n"
      ]
    },
    {
      "cell_type": "code",
      "source": [
        ""
      ],
      "metadata": {
        "id": "GGX_RdfEsGj-"
      },
      "execution_count": null,
      "outputs": []
    }
  ]
}